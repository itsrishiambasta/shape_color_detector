{
 "cells": [
  {
   "cell_type": "code",
   "execution_count": null,
   "id": "330de964",
   "metadata": {},
   "outputs": [
    {
     "name": "stdout",
     "output_type": "stream",
     "text": [
      "❌ Error: Cannot open camera\n",
      "❌ Can't receive frame (stream end?). Exiting ...\n"
     ]
    },
    {
     "ename": "",
     "evalue": "",
     "output_type": "error",
     "traceback": [
      "\u001b[1;31mThe Kernel crashed while executing code in the current cell or a previous cell. \n",
      "\u001b[1;31mPlease review the code in the cell(s) to identify a possible cause of the failure. \n",
      "\u001b[1;31mClick <a href='https://aka.ms/vscodeJupyterKernelCrash'>here</a> for more info. \n",
      "\u001b[1;31mView Jupyter <a href='command:jupyter.viewOutput'>log</a> for further details."
     ]
    }
   ],
   "source": [
    "import cv2\n",
    "import numpy as np\n",
    "\n",
    "# Step 1: Open camera\n",
    "cap = cv2.VideoCapture(0, cv2.CAP_DSHOW)  # or try cv2.VideoCapture(0) only\n",
    "if not cap.isOpened():\n",
    "    print(\"❌ Error: Cannot open camera\")\n",
    "    exit()\n",
    "\n",
    "# Step 2: Process each frame\n",
    "while True:\n",
    "    ret, frame = cap.read()\n",
    "    if not ret:\n",
    "        print(\"❌ Can't receive frame (stream end?). Exiting ...\")\n",
    "        break\n",
    "\n",
    "    # Step 3: Convert to grayscale, blur, and detect edges\n",
    "    gray = cv2.cvtColor(frame, cv2.COLOR_BGR2GRAY)\n",
    "    blur = cv2.GaussianBlur(gray, (5, 5), 0)\n",
    "    edges = cv2.Canny(blur, 50, 150)\n",
    "\n",
    "    # Step 4: Find contours\n",
    "    contours, _ = cv2.findContours(edges, cv2.RETR_EXTERNAL, cv2.CHAIN_APPROX_SIMPLE)\n",
    "\n",
    "    for cnt in contours:\n",
    "        area = cv2.contourArea(cnt)\n",
    "        if area > 500:\n",
    "            approx = cv2.approxPolyDP(cnt, 0.04 * cv2.arcLength(cnt, True), True)\n",
    "            x, y, w, h = cv2.boundingRect(approx)\n",
    "            vertices = len(approx)\n",
    "\n",
    "            # Step 5: Shape detection\n",
    "            if vertices == 3:\n",
    "                shape = \"Triangle\"\n",
    "            elif vertices == 4:\n",
    "                aspect_ratio = float(w) / h\n",
    "                if 0.95 < aspect_ratio < 1.05:\n",
    "                    shape = \"Square\"\n",
    "                else:\n",
    "                    shape = \"Rectangle\"\n",
    "            elif vertices == 5:\n",
    "                shape = \"Pentagon\"\n",
    "            elif vertices == 6:\n",
    "                shape = \"Hexagon\"\n",
    "            elif vertices > 6:\n",
    "                shape = \"Circle\"\n",
    "            else:\n",
    "                shape = \"Unknown\"\n",
    "\n",
    "            # Step 6: Draw shape and label\n",
    "            cv2.drawContours(frame, [approx], 0, (0, 255, 0), 2)\n",
    "            cv2.putText(frame, shape, (x, y - 10), cv2.FONT_HERSHEY_SIMPLEX,\n",
    "                        0.7, (255, 0, 0), 2)\n",
    "\n",
    "    # Step 7: Show live video\n",
    "    cv2.imshow(\"Shape Detection\", frame)\n",
    "\n",
    "    # Step 8: Quit on 'q' key\n",
    "    if cv2.waitKey(1) & 0xFF == ord('q'):\n",
    "        break\n",
    "\n",
    "# Step 9: Clean up\n",
    "cap.release()\n",
    "cv2.destroyAllWindows()\n"
   ]
  }
 ],
 "metadata": {
  "kernelspec": {
   "display_name": "base",
   "language": "python",
   "name": "python3"
  },
  "language_info": {
   "codemirror_mode": {
    "name": "ipython",
    "version": 3
   },
   "file_extension": ".py",
   "mimetype": "text/x-python",
   "name": "python",
   "nbconvert_exporter": "python",
   "pygments_lexer": "ipython3",
   "version": "3.12.7"
  }
 },
 "nbformat": 4,
 "nbformat_minor": 5
}
